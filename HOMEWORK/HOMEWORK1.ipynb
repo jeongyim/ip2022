{
 "cells": [
  {
   "cell_type": "code",
   "execution_count": 1,
   "metadata": {},
   "outputs": [],
   "source": [
    "import cv2\n",
    "from matplotlib.pyplot import vlines\n",
    "import numpy as np"
   ]
  },
  {
   "cell_type": "code",
   "execution_count": 2,
   "metadata": {},
   "outputs": [],
   "source": [
    "dragging = False # true if mouse is pressed\n",
    "ix,iy,tx,ty = 0,0,0,0\n",
    "red = (0,0,255)\n",
    "Trackbar = 0\n",
    "\n",
    "img = cv2.imread('totoro.jpg')\n",
    "dst = img.copy()\n",
    "\n",
    "\n",
    "def nothing(x):\n",
    "    pass\n",
    "\n",
    "# mouse callback function\n",
    "def onMouse(event,x,y,flags,param):\n",
    "    global ix,iy,dragging, tx, ty, Trackbar , dst, dst2\n",
    "    dst=img.copy()\n",
    "    cv2.putText(dst,'OpenCV '+'('+str(ix)+','+str(iy)+')'+'-'+'('+str(tx)+','+str(ty)+')',(10,30), cv2.FONT_HERSHEY_SIMPLEX, 1, (255,255,255),2)\n",
    "\n",
    "    b = img[:,:,0]\n",
    "\n",
    "    if event == cv2.EVENT_LBUTTONDOWN:\n",
    "        dragging = True\n",
    "        ix,iy = x,y\n",
    "        \n",
    "\n",
    "    elif event == cv2.EVENT_MOUSEMOVE:\n",
    "        if dragging == True:\n",
    "            cv2.rectangle(dst,(ix,iy),(x,y),red,0)\n",
    "\n",
    "    elif event == cv2.EVENT_LBUTTONUP:\n",
    "        dragging = False\n",
    "        cv2.rectangle(img,(ix,iy),(x,y),red,0)\n",
    "        tx, ty = x,y\n",
    "\n",
    "\n",
    "\n",
    "\n",
    "cv2.namedWindow('image')\n",
    "cv2.createTrackbar ('Trackbar', 'image', 0, 255, nothing)\n",
    "cv2.setMouseCallback('image',onMouse)\n",
    "\n",
    "while(1):\n",
    "    cv2.imshow('image',dst)\n",
    "    k = cv2.waitKey(1) & 0xFF\n",
    "    Trackbar = cv2.getTrackbarPos('Trackbar', 'image')\n",
    "    img[iy:ty,ix:tx,0] = Trackbar\n",
    "    img[iy:ty,ix:tx,1] = Trackbar\n",
    "    if k == 27:\n",
    "        break\n",
    "\n",
    "cv2.destroyAllWindows()"
   ]
  }
 ],
 "metadata": {
  "kernelspec": {
   "display_name": "Python 3.8.13 ('opencv')",
   "language": "python",
   "name": "python3"
  },
  "language_info": {
   "codemirror_mode": {
    "name": "ipython",
    "version": 3
   },
   "file_extension": ".py",
   "mimetype": "text/x-python",
   "name": "python",
   "nbconvert_exporter": "python",
   "pygments_lexer": "ipython3",
   "version": "3.8.13"
  },
  "orig_nbformat": 4,
  "vscode": {
   "interpreter": {
    "hash": "982f828e32495235e9d552c2e9e2eeb4cf168c33376270697f1b7b335dd4e693"
   }
  }
 },
 "nbformat": 4,
 "nbformat_minor": 2
}
