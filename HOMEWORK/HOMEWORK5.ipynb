{
 "cells": [
  {
   "cell_type": "code",
   "execution_count": null,
   "metadata": {},
   "outputs": [],
   "source": []
  }
 ],
 "metadata": {
  "kernelspec": {
   "display_name": "Python 3.8.13 ('opencv')",
   "language": "python",
   "name": "python3"
  },
  "language_info": {
   "name": "python",
   "version": "3.8.13"
  },
  "orig_nbformat": 4,
  "vscode": {
   "interpreter": {
    "hash": "982f828e32495235e9d552c2e9e2eeb4cf168c33376270697f1b7b335dd4e693"
   }
  }
 },
 "nbformat": 4,
 "nbformat_minor": 2
}
